{
  "nbformat": 4,
  "nbformat_minor": 0,
  "metadata": {
    "colab": {
      "provenance": []
    },
    "kernelspec": {
      "name": "python3",
      "display_name": "Python 3"
    },
    "language_info": {
      "name": "python"
    }
  },
  "cells": [
    {
      "cell_type": "code",
      "source": [
        "import requests\n",
        "from bs4 import BeautifulSoup as soup\n",
        "import csv\n",
        "\n",
        "header = {\n",
        "    'user-agent': 'Mozilla/5.0 (Windows NT 10.0; WOW64) AppleWebKit/537.36 (KHTML, like Gecko) Chrome/83.0.4103.97 Safari/537.36'\n",
        "}\n",
        "\n",
        "csv_file = open('HTLIFESTYLE.csv', 'w', newline='', encoding='utf-8')\n",
        "csv_writer = csv.writer(csv_file)\n",
        "csv_writer.writerow(['Title', 'Date Time', 'Category'])\n",
        "\n",
        "for page_number in range(1, 51):\n",
        "    url = f'https://www.hindustantimes.com/lifestyle/page-{page_number}/'\n",
        "    html = requests.get(url=url, headers=header)\n",
        "    soupy = soup(html.content, 'html.parser')\n",
        "\n",
        "    for div in soupy.find_all('div', class_='cartHolder'):\n",
        "        ti_div = div.find('h3', class_='hdg3')\n",
        "        a_tag = ti_div.find('a') if ti_div else None\n",
        "        title = a_tag.text.strip() if a_tag else \"N/A\"\n",
        "\n",
        "        Category_tag = div.find('div', class_='secName ftlsecName')\n",
        "        Cate_tag = Category_tag.find('a') if Category_tag else None\n",
        "        Category = Cate_tag.text.strip() if Cate_tag else \"N/A\"\n",
        "\n",
        "        date_tag = div.find('div', class_='dateTime')\n",
        "        Date = date_tag.text.strip() if date_tag else \"N/A\"\n",
        "\n",
        "        csv_writer.writerow([title, Date, Category])\n",
        "\n",
        "csv_file.close()\n"
      ],
      "metadata": {
        "id": "2acoM2diZ0Tq"
      },
      "execution_count": null,
      "outputs": []
    },
    {
      "cell_type": "code",
      "source": [],
      "metadata": {
        "id": "nSnIoUv_bq-J"
      },
      "execution_count": null,
      "outputs": []
    }
  ]
}